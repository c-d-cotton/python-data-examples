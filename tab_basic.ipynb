{
 "cells": [
  {
   "cell_type": "markdown",
   "id": "c3855445-48d2-44ea-9e29-711e1a2a02c2",
   "metadata": {},
   "source": [
    "# Tables Basic"
   ]
  },
  {
   "cell_type": "code",
   "execution_count": 2,
   "id": "7e3c00d0-a0cf-4615-8c68-08ffbb1d4d83",
   "metadata": {
    "execution": {
     "iopub.execute_input": "2024-03-18T17:55:05.093044Z",
     "iopub.status.busy": "2024-03-18T17:55:05.092780Z",
     "iopub.status.idle": "2024-03-18T17:55:09.471801Z",
     "shell.execute_reply": "2024-03-18T17:55:09.471287Z",
     "shell.execute_reply.started": "2024-03-18T17:55:05.093020Z"
    },
    "tags": []
   },
   "outputs": [],
   "source": [
    "# basic setup\n",
    "import datetime\n",
    "from dateutil.relativedelta import relativedelta\n",
    "import matplotlib.pyplot as plt\n",
    "import numpy as np\n",
    "import os\n",
    "import pandas as pd\n",
    "from pathlib import Path\n",
    "import pytz\n",
    "import statsmodels.api as sm\n",
    "import statsmodels.formula.api as smf\n",
    "import string\n",
    "import sys\n",
    "\n",
    "# function to create a tabular table\n",
    "sys.path.append('submodules/python-tabular-output/')\n",
    "from tab_general_func import tabularconvert\n",
    "from tab_general_func import mergetabsecs"
   ]
  },
  {
   "cell_type": "markdown",
   "id": "da163089-26c9-49f6-8434-f67f209aa2ba",
   "metadata": {},
   "source": [
    "## Basic Example"
   ]
  },
  {
   "cell_type": "code",
   "execution_count": 3,
   "id": "d976df45-b19f-48e6-b8d5-abdfcd8117bc",
   "metadata": {
    "execution": {
     "iopub.execute_input": "2024-03-18T17:55:10.380336Z",
     "iopub.status.busy": "2024-03-18T17:55:10.380130Z",
     "iopub.status.idle": "2024-03-18T17:55:10.383981Z",
     "shell.execute_reply": "2024-03-18T17:55:10.383450Z",
     "shell.execute_reply.started": "2024-03-18T17:55:10.380316Z"
    },
    "tags": []
   },
   "outputs": [
    {
     "name": "stdout",
     "output_type": "stream",
     "text": [
      "\\begin{tabular}{|l|r|}\n",
      "\\hline\n",
      "Col1 & Col2 \\\\\n",
      "\\hline\n",
      "a & b \\\\\n",
      "1 & 2 \\\\\n",
      "\\hline\n",
      "\\end{tabular}\n",
      "\n"
     ]
    }
   ],
   "source": [
    "tabular = tabularconvert([['Col1', 'Col2'], ['a', 'b'], ['1', '2']], colalign = '|l|r|', hlines = [0, 1, -1], savename = None)\n",
    "print(tabular)"
   ]
  },
  {
   "cell_type": "markdown",
   "id": "fa223e15-aaa4-488d-84ef-b9cfe3b33517",
   "metadata": {},
   "source": [
    "## Multicolumn"
   ]
  },
  {
   "cell_type": "code",
   "execution_count": 5,
   "id": "e39936b1-f2bb-47fc-9975-fecaa07651b7",
   "metadata": {
    "execution": {
     "iopub.execute_input": "2024-03-18T17:56:24.856272Z",
     "iopub.status.busy": "2024-03-18T17:56:24.856061Z",
     "iopub.status.idle": "2024-03-18T17:56:24.864674Z",
     "shell.execute_reply": "2024-03-18T17:56:24.864042Z",
     "shell.execute_reply.started": "2024-03-18T17:56:24.856251Z"
    },
    "tags": []
   },
   "outputs": [
    {
     "name": "stdout",
     "output_type": "stream",
     "text": [
      "\\begin{tabular}{|c|c|c|}\n",
      "\\hline\n",
      "\\multicolumn{2}{|c|}{Cols. 1 and 2} & Col3 \\\\\n",
      "\\hline\n",
      "Col1 & Col2 & Col3 \\\\\n",
      "\\hline\n",
      "a & b & c \\\\\n",
      "1 & 2 & 3 \\\\\n",
      "\\hline\n",
      "\\end{tabular}\n",
      "\n"
     ]
    }
   ],
   "source": [
    "tabular = tabularconvert([['\\\\multicolumn{2}{|c|}{Cols. 1 and 2}', 'Col3'], ['Col1', 'Col2', 'Col3'], ['a', 'b', 'c'], ['1', '2', '3']], colalign = '|c|c|c|', hlines = [0, 1, 2, -1], savename = None)\n",
    "print(tabular)"
   ]
  },
  {
   "cell_type": "markdown",
   "id": "95bc5aca-1e9e-4a46-9e04-60e7cc0612a6",
   "metadata": {
    "execution": {
     "iopub.execute_input": "2024-03-18T17:56:31.325000Z",
     "iopub.status.busy": "2024-03-18T17:56:31.324778Z",
     "iopub.status.idle": "2024-03-18T17:56:31.635238Z",
     "shell.execute_reply": "2024-03-18T17:56:31.634528Z",
     "shell.execute_reply.started": "2024-03-18T17:56:31.324978Z"
    },
    "tags": []
   },
   "source": [
    "## Multirow"
   ]
  },
  {
   "cell_type": "code",
   "execution_count": 7,
   "id": "6cd48885-b752-48a6-bb1c-b4bba8e2538a",
   "metadata": {
    "execution": {
     "iopub.execute_input": "2024-03-18T17:56:49.711393Z",
     "iopub.status.busy": "2024-03-18T17:56:49.711183Z",
     "iopub.status.idle": "2024-03-18T17:56:49.714923Z",
     "shell.execute_reply": "2024-03-18T17:56:49.714525Z",
     "shell.execute_reply.started": "2024-03-18T17:56:49.711372Z"
    },
    "tags": []
   },
   "outputs": [
    {
     "name": "stdout",
     "output_type": "stream",
     "text": [
      "\\begin{tabular}{lcc}\n",
      "\\hline\n",
      " & Col1 & Col2 \\\\\n",
      "\\hline\n",
      "\\multirow{2}{*}{Letters} & a & b \\\\\n",
      " & A & B \\\\\n",
      "\\hline\n",
      "Numbers & 1 & 2 \\\\\n",
      "\\hline\n",
      "\\end{tabular}\n",
      "\n"
     ]
    }
   ],
   "source": [
    "tabular = tabularconvert([['', 'Col1', 'Col2'], ['\\\\multirow{2}{*}{Letters}', 'a', 'b'], ['', 'A', 'B'], ['Numbers', '1', '2']], colalign = 'lcc', hlines = [0, 1, 3, -1], savename = None)\n",
    "print(tabular)"
   ]
  },
  {
   "cell_type": "markdown",
   "id": "36c5f08e-9a51-460b-9eff-6bb9fe9742c7",
   "metadata": {},
   "source": [
    "## Regression Example"
   ]
  },
  {
   "cell_type": "code",
   "execution_count": 8,
   "id": "c15d1e79-30f0-4a95-866d-191c5fd43b70",
   "metadata": {
    "execution": {
     "iopub.execute_input": "2024-03-18T17:57:19.704743Z",
     "iopub.status.busy": "2024-03-18T17:57:19.704521Z",
     "iopub.status.idle": "2024-03-18T17:57:19.865469Z",
     "shell.execute_reply": "2024-03-18T17:57:19.864657Z",
     "shell.execute_reply.started": "2024-03-18T17:57:19.704725Z"
    },
    "tags": []
   },
   "outputs": [
    {
     "name": "stdout",
     "output_type": "stream",
     "text": [
      "\\begin{tabular}{lcc}\n",
      "\\hline\n",
      "x/y & y1 & y2 \\\\\n",
      "\\hline\n",
      "x1 & 1.032*** & 2.063*** \\\\\n",
      " & (0.046,1000) & (0.092,1000) \\\\\n",
      "x2 & 0.984*** & 1.968*** \\\\\n",
      " & (0.046,1000) & (0.091,1000) \\\\\n",
      "\\hline\n",
      "\\end{tabular}\n",
      "\n"
     ]
    }
   ],
   "source": [
    "# data setup:{{{\n",
    "N = 1000\n",
    "Nfirsthalf = N // 2\n",
    "beta1 = 1\n",
    "beta2 = 1\n",
    "\n",
    "x1 = np.random.normal(size = N)\n",
    "x2 = np.random.normal(size = N)\n",
    "epsilon = np.random.normal(size = N)\n",
    "\n",
    "df = pd.DataFrame({'x1': x1, 'x2': x2, 'epsilon': epsilon})\n",
    "df['y1'] = beta1 * df['x1'] + beta2 * df['x2'] + df['epsilon']\n",
    "df['y2'] = 2 * beta1 * df['x1'] + 2 * beta2 * df['x2'] + 2 * df['epsilon']\n",
    "# data setup:}}}\n",
    "\n",
    "outputrows = []\n",
    "# add title row\n",
    "outputrows.append(['x/y', 'y1', 'y2'])\n",
    "\n",
    "# put x in rows and y in columns\n",
    "for x in ['x1', 'x2']:\n",
    "    betarow = [x]\n",
    "    stdnrow = ['']\n",
    "    for y in ['y1', 'y2']:\n",
    "        df2 = df[(df[y].notna()) & (df[x].notna())].copy()\n",
    "\n",
    "        model = smf.ols(formula = y + ' ~ ' + x, data = df2).fit()\n",
    "\n",
    "        beta = model.params[1]\n",
    "        pval = model.pvalues[1]\n",
    "        stderr = model.bse[1]\n",
    "        # tstat = model.tvalues[1]\n",
    "        n = len(df2)\n",
    "\n",
    "        # add stars\n",
    "        abeta = '{:.3f}'.format(beta)\n",
    "        if pval < 0.05:\n",
    "            abeta = abeta + '*'\n",
    "        if pval < 0.01:\n",
    "            abeta = abeta + '*'\n",
    "        if pval < 0.001:\n",
    "            abeta = abeta + '*'\n",
    "\n",
    "        stderr = '{:.3f}'.format(stderr)\n",
    "        n = str(n)\n",
    "\n",
    "        betarow.append(abeta)\n",
    "        stdnrow.append('(' + stderr + ',' + n + ')')\n",
    "\n",
    "    outputrows.append(betarow)\n",
    "    outputrows.append(stdnrow)\n",
    "\n",
    "tabular = tabularconvert(outputrows, colalign = 'lcc', hlines = [0, 1, -1], savename = None)\n",
    "print(tabular)"
   ]
  }
 ],
 "metadata": {
  "kernelspec": {
   "display_name": "anaconda3",
   "language": "python",
   "name": "anaconda3"
  },
  "language_info": {
   "codemirror_mode": {
    "name": "ipython",
    "version": 3
   },
   "file_extension": ".py",
   "mimetype": "text/x-python",
   "name": "python",
   "nbconvert_exporter": "python",
   "pygments_lexer": "ipython3",
   "version": "3.8.3"
  }
 },
 "nbformat": 4,
 "nbformat_minor": 5
}
