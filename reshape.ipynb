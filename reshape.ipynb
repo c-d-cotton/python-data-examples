{
 "cells": [
  {
   "cell_type": "markdown",
   "id": "c6dd15f5-327c-48f0-af61-82b022ec5e74",
   "metadata": {},
   "source": [
    "# Reshape Examples"
   ]
  },
  {
   "cell_type": "code",
   "execution_count": 1,
   "id": "b27d5085-50a9-465f-88c2-1c6ffbf5e081",
   "metadata": {
    "execution": {
     "iopub.execute_input": "2024-03-18T15:32:43.278245Z",
     "iopub.status.busy": "2024-03-18T15:32:43.278018Z",
     "iopub.status.idle": "2024-03-18T15:32:45.045791Z",
     "shell.execute_reply": "2024-03-18T15:32:45.045314Z",
     "shell.execute_reply.started": "2024-03-18T15:32:43.278221Z"
    },
    "tags": []
   },
   "outputs": [],
   "source": [
    "# basic setup\n",
    "import datetime\n",
    "from dateutil.relativedelta import relativedelta\n",
    "import matplotlib.pyplot as plt\n",
    "import numpy as np\n",
    "import os\n",
    "import pandas as pd\n",
    "from pathlib import Path\n",
    "import pytz\n",
    "import statsmodels.api as sm\n",
    "import statsmodels.formula.api as smf\n",
    "import string\n",
    "import sys\n",
    "\n"
   ]
  },
  {
   "cell_type": "markdown",
   "id": "0ad6b2bf-9238-45fb-bb17-9bc962e7f3a9",
   "metadata": {},
   "source": [
    "## Pivot Basic"
   ]
  },
  {
   "cell_type": "code",
   "execution_count": 2,
   "id": "12b3a6ab-8a90-4574-bb56-7771b3719420",
   "metadata": {
    "execution": {
     "iopub.execute_input": "2024-03-18T15:33:35.783508Z",
     "iopub.status.busy": "2024-03-18T15:33:35.783301Z",
     "iopub.status.idle": "2024-03-18T15:33:35.912975Z",
     "shell.execute_reply": "2024-03-18T15:33:35.912524Z",
     "shell.execute_reply.started": "2024-03-18T15:33:35.783487Z"
    },
    "tags": []
   },
   "outputs": [
    {
     "name": "stdout",
     "output_type": "stream",
     "text": [
      "   gdp1  gdp2  year\n",
      "0   100   100  2000\n",
      "1   102   101  2001\n",
      "   year  country  gdp\n",
      "0  2000        1  100\n",
      "1  2001        1  102\n",
      "2  2000        2  100\n",
      "3  2001        2  101\n",
      "   year  gdp1  gdp2\n",
      "0  2000   100   100\n",
      "1  2001   102   101\n"
     ]
    }
   ],
   "source": [
    "# i is the index in the wide version\n",
    "# j is the name of the second index created from suffixes in the long version\n",
    "# stubnames are the variables that are being indexed i.e. the first part of the variables that are currently given across the second index\n",
    "df = pd.DataFrame({'gdp1': [100, 102], 'gdp2': [100, 101], 'year': [2000, 2001]})\n",
    "print(df)\n",
    "df2 = pd.wide_to_long(df, stubnames = 'gdp', i = 'year', j = 'country')\n",
    "df2 = df2.reset_index()\n",
    "print(df2)\n",
    "# unpivot\n",
    "df3 = pd.pivot(df2, index = 'year', columns = 'country', values = 'gdp')\n",
    "df3.columns = ['gdp' + str(gdpcol) for gdpcol in df3.columns]\n",
    "df3 = df3.reset_index()\n",
    "print(df3)"
   ]
  },
  {
   "cell_type": "markdown",
   "id": "3054a547-6823-4b4d-89a9-a92dd4223479",
   "metadata": {},
   "source": [
    "## Pivot Multiple Variables"
   ]
  },
  {
   "cell_type": "code",
   "execution_count": 3,
   "id": "a01f079b-6330-435e-960a-3a47bf9edc5f",
   "metadata": {
    "execution": {
     "iopub.execute_input": "2024-03-18T15:35:14.898689Z",
     "iopub.status.busy": "2024-03-18T15:35:14.898468Z",
     "iopub.status.idle": "2024-03-18T15:35:14.928113Z",
     "shell.execute_reply": "2024-03-18T15:35:14.927646Z",
     "shell.execute_reply.started": "2024-03-18T15:35:14.898669Z"
    },
    "tags": []
   },
   "outputs": [
    {
     "name": "stdout",
     "output_type": "stream",
     "text": [
      "   gdp1  gdp2  unemp1  unemp2  year\n",
      "0   100   100       5       4  2000\n",
      "1   102   101       4       3  2001\n",
      "   year  country  gdp  unemp\n",
      "0  2000        1  100      5\n",
      "1  2001        1  102      4\n",
      "2  2000        2  100      4\n",
      "3  2001        2  101      3\n",
      "   year  gdp1  gdp2  unemp1  unemp2\n",
      "0  2000   100   100       5       4\n",
      "1  2001   102   101       4       3\n"
     ]
    }
   ],
   "source": [
    "# with multiple variables\n",
    "df = pd.DataFrame({'gdp1': [100, 102], 'gdp2': [100, 101], 'unemp1': [5, 4], 'unemp2': [4, 3], 'year': [2000, 2001]})\n",
    "print(df)\n",
    "df2 = pd.wide_to_long(df, stubnames = ['gdp', 'unemp'], i = 'year', j = 'country')\n",
    "df2 = df2.reset_index()\n",
    "print(df2)\n",
    "# unpivot\n",
    "df3 = pd.pivot(df2, index = 'year', columns = 'country', values = ['gdp', 'unemp'])\n",
    "# remove multi-index\n",
    "df3.columns = [tup[0] + str(tup[1]) for tup in df3.columns]\n",
    "df3 = df3.reset_index()\n",
    "print(df3)"
   ]
  },
  {
   "cell_type": "markdown",
   "id": "5047341f-718b-4543-917e-e87b9122e58a",
   "metadata": {},
   "source": [
    "## Pivot - Suffix Not a Number"
   ]
  },
  {
   "cell_type": "code",
   "execution_count": 4,
   "id": "ad1b53b2-1b5d-40a0-ba68-7ae6033fe9da",
   "metadata": {
    "execution": {
     "iopub.execute_input": "2024-03-18T15:36:54.988775Z",
     "iopub.status.busy": "2024-03-18T15:36:54.988573Z",
     "iopub.status.idle": "2024-03-18T15:36:55.017467Z",
     "shell.execute_reply": "2024-03-18T15:36:55.017008Z",
     "shell.execute_reply.started": "2024-03-18T15:36:54.988756Z"
    },
    "tags": []
   },
   "outputs": [
    {
     "name": "stdout",
     "output_type": "stream",
     "text": [
      "   gdp_usa  gdp_japan  unemp_usa  unemp_japan  year  worldgpd\n",
      "0      100        100          5            4  2000       200\n",
      "1      102        101          4            3  2001       203\n",
      "   year country  worldgpd  gdp  unemp\n",
      "0  2000     usa       200  100      5\n",
      "1  2001     usa       203  102      4\n",
      "2  2000   japan       200  100      4\n",
      "3  2001   japan       203  101      3\n",
      "   year  gdp_japan  gdp_usa  unemp_japan  unemp_usa\n",
      "0  2000        100      100            4          5\n",
      "1  2001        101      102            3          4\n"
     ]
    }
   ],
   "source": [
    "# need to specify if suffix is not a number using suffix = '\\D+'\n",
    "# suffix using numbers (only) (default): suffix = '\\d+'\n",
    "# suffix using letters (only): suffix = '\\D+'\n",
    "# suffix using letters or numbers: suffix = '\\S+'\n",
    "# adding separator\n",
    "# adding additional index variable\n",
    "df = pd.DataFrame({'gdp_usa': [100, 102], 'gdp_japan': [100, 101], 'unemp_usa': [5, 4], 'unemp_japan': [4, 3], 'year': [2000, 2001], 'worldgpd': [200, 203]})\n",
    "print(df)\n",
    "df2 = pd.wide_to_long(df, stubnames = ['gdp', 'unemp'], i = 'year', j = 'country', sep = '_', suffix = '\\D+')\n",
    "df2 = df2.reset_index()\n",
    "print(df2)\n",
    "# unpivot\n",
    "df3 = pd.pivot(df2, index = 'year', columns = 'country', values = ['gdp', 'unemp'])\n",
    "# with multiple values, get multi-index column that need to combine manually\n",
    "df3.columns = [tup[0] + '_' + tup[1] for tup in df3.columns]\n",
    "df3 = df3.reset_index()\n",
    "print(df3)"
   ]
  },
  {
   "cell_type": "markdown",
   "id": "b0351941-a4db-48c1-b541-906b65eee419",
   "metadata": {},
   "source": [
    "## Pivot - Multiple Index"
   ]
  },
  {
   "cell_type": "code",
   "execution_count": 5,
   "id": "36a723ff-a289-42a5-9562-362b7d256167",
   "metadata": {
    "execution": {
     "iopub.execute_input": "2024-03-18T15:38:47.029802Z",
     "iopub.status.busy": "2024-03-18T15:38:47.029577Z",
     "iopub.status.idle": "2024-03-18T15:38:47.103316Z",
     "shell.execute_reply": "2024-03-18T15:38:47.102860Z",
     "shell.execute_reply.started": "2024-03-18T15:38:47.029783Z"
    },
    "tags": []
   },
   "outputs": [
    {
     "name": "stdout",
     "output_type": "stream",
     "text": [
      "  source dest  exports_2000  exports_2001\n",
      "0    AUS  AUS             1             2\n",
      "1    CAN  AUS             2             3\n",
      "2    AUS  CAN             3             4\n",
      "3    CAN  CAN             4             5\n",
      "  source dest  year  exports\n",
      "0    AUS  AUS  2000        1\n",
      "1    AUS  AUS  2001        2\n",
      "2    CAN  AUS  2000        2\n",
      "3    CAN  AUS  2001        3\n",
      "4    AUS  CAN  2000        3\n",
      "5    AUS  CAN  2001        4\n",
      "6    CAN  CAN  2000        4\n",
      "7    CAN  CAN  2001        5\n",
      "  source dest  exports_2000  exports_2001\n",
      "0    AUS  AUS             1             2\n",
      "1    AUS  CAN             3             4\n",
      "2    CAN  AUS             2             3\n",
      "3    CAN  CAN             4             5\n"
     ]
    }
   ],
   "source": [
    "# i is the index in the wide version\n",
    "# j is the name of the second index created from suffixes in the long version\n",
    "# stubnames are the variables that are being indexed i.e. the first part of the variables that are currently given across the second index\n",
    "df = pd.DataFrame({'source': ['AUS', 'CAN', 'AUS', 'CAN'], 'dest': ['AUS', 'AUS', 'CAN', 'CAN'], 'exports_2000': [1, 2, 3, 4], 'exports_2001': [2, 3, 4, 5]})\n",
    "print(df)\n",
    "df2 = pd.wide_to_long(df, stubnames = 'exports', i = ['source', 'dest'], j = 'year', sep = \"_\")\n",
    "df2 = df2.reset_index()\n",
    "print(df2)\n",
    "# unpivot\n",
    "df3 = pd.pivot_table(df2, index = ['source', 'dest'], columns = 'year', values = 'exports')\n",
    "df3.columns = ['exports_' + str(gdpcol) for gdpcol in df3.columns]\n",
    "df3 = df3.reset_index()\n",
    "print(df3)"
   ]
  },
  {
   "cell_type": "markdown",
   "id": "1203a8bc-6576-4fa1-8fd5-f356c0bb184f",
   "metadata": {
    "execution": {
     "iopub.execute_input": "2024-03-18T15:40:55.531657Z",
     "iopub.status.busy": "2024-03-18T15:40:55.531454Z",
     "iopub.status.idle": "2024-03-18T15:40:55.533824Z",
     "shell.execute_reply": "2024-03-18T15:40:55.533429Z",
     "shell.execute_reply.started": "2024-03-18T15:40:55.531637Z"
    },
    "tags": []
   },
   "source": [
    "## Pivot - Multiple Index/Multiple Values"
   ]
  },
  {
   "cell_type": "code",
   "execution_count": 8,
   "id": "4fd713d5-ee91-4958-878d-87ca7213ac03",
   "metadata": {
    "execution": {
     "iopub.execute_input": "2024-03-18T15:41:39.578290Z",
     "iopub.status.busy": "2024-03-18T15:41:39.578068Z",
     "iopub.status.idle": "2024-03-18T15:41:39.619296Z",
     "shell.execute_reply": "2024-03-18T15:41:39.618847Z",
     "shell.execute_reply.started": "2024-03-18T15:41:39.578271Z"
    },
    "tags": []
   },
   "outputs": [
    {
     "name": "stdout",
     "output_type": "stream",
     "text": [
      "  source dest  exports_2000  exports_2001  imports_2000  imports_2001\n",
      "0    AUS  AUS             1             2             1             2\n",
      "1    CAN  AUS             2             3             2             3\n",
      "2    AUS  CAN             3             4             3             4\n",
      "3    CAN  CAN             4             5             4             5\n",
      "  source dest  year  imports  exports\n",
      "0    AUS  AUS  2000        1        1\n",
      "1    AUS  AUS  2001        2        2\n",
      "2    CAN  AUS  2000        2        2\n",
      "3    CAN  AUS  2001        3        3\n",
      "4    AUS  CAN  2000        3        3\n",
      "5    AUS  CAN  2001        4        4\n",
      "6    CAN  CAN  2000        4        4\n",
      "7    CAN  CAN  2001        5        5\n",
      "  source dest  exports_2000  exports_2001  imports_2000  imports_2001\n",
      "0    AUS  AUS             1             2             1             2\n",
      "1    AUS  CAN             3             4             3             4\n",
      "2    CAN  AUS             2             3             2             3\n",
      "3    CAN  CAN             4             5             4             5\n"
     ]
    }
   ],
   "source": [
    "# i is the index in the wide version\n",
    "# j is the name of the second index created from suffixes in the long version\n",
    "# stubnames are the variables that are being indexed i.e. the first part of the variables that are currently given across the second index\n",
    "df = pd.DataFrame({'source': ['AUS', 'CAN', 'AUS', 'CAN'], 'dest': ['AUS', 'AUS', 'CAN', 'CAN'], 'exports_2000': [1, 2, 3, 4], 'exports_2001': [2, 3, 4, 5], 'imports_2000': [1, 2, 3, 4], 'imports_2001': [2, 3, 4, 5]})\n",
    "print(df)\n",
    "df2 = pd.wide_to_long(df, stubnames = ['imports', 'exports'], i = ['source', 'dest'], j = 'year', sep = \"_\")\n",
    "df2 = df2.reset_index()\n",
    "print(df2)\n",
    "# unpivot\n",
    "df3 = pd.pivot_table(df2, index = ['source', 'dest'], columns = 'year', values = ['exports', 'imports'])\n",
    "# with multiple values, get multi-index column that need to combine manually\n",
    "df3.columns = [col[0] + '_' + str(col[1]) for col in df3.columns]\n",
    "df3 = df3.reset_index()\n",
    "print(df3)"
   ]
  },
  {
   "cell_type": "markdown",
   "id": "b4787d2a-d79d-4adf-9d09-e7870ba58511",
   "metadata": {
    "execution": {
     "iopub.execute_input": "2024-03-18T15:42:05.720780Z",
     "iopub.status.busy": "2024-03-18T15:42:05.720575Z",
     "iopub.status.idle": "2024-03-18T15:42:05.722826Z",
     "shell.execute_reply": "2024-03-18T15:42:05.722457Z",
     "shell.execute_reply.started": "2024-03-18T15:42:05.720760Z"
    },
    "tags": []
   },
   "source": [
    "## CPI Example"
   ]
  },
  {
   "cell_type": "code",
   "execution_count": 16,
   "id": "f8b9855c-8539-4761-a015-ea446d8463cd",
   "metadata": {
    "execution": {
     "iopub.execute_input": "2024-03-20T20:31:36.003790Z",
     "iopub.status.busy": "2024-03-20T20:31:36.003572Z",
     "iopub.status.idle": "2024-03-20T20:31:36.058157Z",
     "shell.execute_reply": "2024-03-20T20:31:36.057554Z",
     "shell.execute_reply.started": "2024-03-20T20:31:36.003769Z"
    },
    "tags": []
   },
   "outputs": [
    {
     "name": "stdout",
     "output_type": "stream",
     "text": [
      "                               name    month levelid  cpi_nsa  cpi_sa\n",
      "0                         All items  202101m      00      100     100\n",
      "1                         All items  202102m      00      101     100\n",
      "2                              Food  202101m   00_00      200     200\n",
      "3                              Food  202102m   00_00      202     200\n",
      "4                            Energy  202101m   00_01      300     300\n",
      "5                            Energy  202102m   00_01      303     300\n",
      "6  All items except food and energy  202101m   00_02      400     400\n",
      "7  All items except food and energy  202102m   00_02      404     400\n",
      "                               name levelid  cpi_nsa_202101m  cpi_nsa_202102m  \\\n",
      "0                         All items      00              100              101   \n",
      "1  All items except food and energy   00_02              400              404   \n",
      "2                            Energy   00_01              300              303   \n",
      "3                              Food   00_00              200              202   \n",
      "\n",
      "   cpi_sa_202101m  cpi_sa_202102m  \n",
      "0             100             100  \n",
      "1             400             400  \n",
      "2             300             300  \n",
      "3             200             200  \n",
      "                               name levelid    month  cpi_nsa  cpi_sa\n",
      "0                         All items      00  202101m      100     100\n",
      "1                         All items      00  202102m      101     100\n",
      "2  All items except food and energy   00_02  202101m      400     400\n",
      "3  All items except food and energy   00_02  202102m      404     400\n",
      "4                            Energy   00_01  202101m      300     300\n",
      "5                            Energy   00_01  202102m      303     300\n",
      "6                              Food   00_00  202101m      200     200\n",
      "7                              Food   00_00  202102m      202     200\n",
      "     month levelid  All items_cpi_nsa  \\\n",
      "0  202101m      00              100.0   \n",
      "1  202101m   00_00                NaN   \n",
      "2  202101m   00_01                NaN   \n",
      "3  202101m   00_02                NaN   \n",
      "4  202102m      00              101.0   \n",
      "5  202102m   00_00                NaN   \n",
      "6  202102m   00_01                NaN   \n",
      "7  202102m   00_02                NaN   \n",
      "\n",
      "   All items except food and energy_cpi_nsa  Energy_cpi_nsa  Food_cpi_nsa  \\\n",
      "0                                       NaN             NaN           NaN   \n",
      "1                                       NaN             NaN         200.0   \n",
      "2                                       NaN           300.0           NaN   \n",
      "3                                     400.0             NaN           NaN   \n",
      "4                                       NaN             NaN           NaN   \n",
      "5                                       NaN             NaN         202.0   \n",
      "6                                       NaN           303.0           NaN   \n",
      "7                                     404.0             NaN           NaN   \n",
      "\n",
      "   All items_cpi_sa  All items except food and energy_cpi_sa  Energy_cpi_sa  \\\n",
      "0             100.0                                      NaN            NaN   \n",
      "1               NaN                                      NaN            NaN   \n",
      "2               NaN                                      NaN          300.0   \n",
      "3               NaN                                    400.0            NaN   \n",
      "4             100.0                                      NaN            NaN   \n",
      "5               NaN                                      NaN            NaN   \n",
      "6               NaN                                      NaN          300.0   \n",
      "7               NaN                                    400.0            NaN   \n",
      "\n",
      "   Food_cpi_sa  \n",
      "0          NaN  \n",
      "1        200.0  \n",
      "2          NaN  \n",
      "3          NaN  \n",
      "4          NaN  \n",
      "5        200.0  \n",
      "6          NaN  \n",
      "7          NaN  \n"
     ]
    }
   ],
   "source": [
    "# the main object index is name\n",
    "# other object index is levelid\n",
    "# the main date is month\n",
    "# Two variables to reshape are cpi_nsa, cpi_sa\n",
    "df = pd.DataFrame({'name': ['All items', 'All items', 'Food', 'Food', 'Energy', 'Energy', 'All items except food and energy', 'All items except food and energy'], 'month': ['202101m', '202102m', '202101m', '202102m', '202101m', '202102m', '202101m', '202102m'], 'levelid': ['00', '00', '00_00', '00_00', '00_01', '00_01', '00_02', '00_02'], 'cpi_nsa': [100, 101, 200, 202, 300, 303, 400, 404], 'cpi_sa': [100, 100, 200, 200, 300, 300, 400, 400]})\n",
    "print(df)\n",
    "\n",
    "# long to wide\n",
    "df2 = pd.pivot_table(df, index = ['name', 'levelid'], columns = 'month', values = ['cpi_sa', 'cpi_nsa'])\n",
    "# adjust columns\n",
    "df2.columns = [col[0] + '_' + col[1] for col in df2.columns]\n",
    "df2 = df2.reset_index()\n",
    "\n",
    "print(df2)\n",
    "\n",
    "# wide to long\n",
    "# w+ matches [a-zA-Z0-9_]+\n",
    "stubnames = sorted(list(set(['_'.join(col.split('_')[: -1]) for col in df2.columns if col.startswith('cpi_nsa_') or col.startswith('cpi_sa_')])))\n",
    "df3 = pd.wide_to_long(df2, stubnames = ['cpi_nsa', 'cpi_sa'], i = ['name', 'levelid'], j = 'month', sep = \"_\", suffix = '\\\\w+')\n",
    "df3 = df3.reset_index()\n",
    "print(df3)\n",
    "\n",
    "# alternatively reshaping long to wide with name_cpi_nsa rather than date_cpi_nsa as column\n",
    "df4 = pd.pivot_table(df3, index = ['month', 'levelid'], columns = 'name', values = ['cpi_sa', 'cpi_nsa'])\n",
    "# adjust columns\n",
    "df4.columns = [col[1] + '_' + col[0] for col in df4.columns]\n",
    "df4 = df4.reset_index()\n",
    "print(df4)"
   ]
  }
 ],
 "metadata": {
  "kernelspec": {
   "display_name": "anaconda3",
   "language": "python",
   "name": "anaconda3"
  },
  "language_info": {
   "codemirror_mode": {
    "name": "ipython",
    "version": 3
   },
   "file_extension": ".py",
   "mimetype": "text/x-python",
   "name": "python",
   "nbconvert_exporter": "python",
   "pygments_lexer": "ipython3",
   "version": "3.8.3"
  }
 },
 "nbformat": 4,
 "nbformat_minor": 5
}
