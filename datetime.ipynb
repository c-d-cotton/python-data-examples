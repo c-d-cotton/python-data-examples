{
 "cells": [
  {
   "cell_type": "markdown",
   "id": "3987975b-abc9-4d03-af5d-9ab1690baa8c",
   "metadata": {},
   "source": [
    "# Date/Time Examples"
   ]
  },
  {
   "cell_type": "code",
   "execution_count": 3,
   "id": "e2bcc693-ebf9-4ad0-b8c0-7a7b23eb47a0",
   "metadata": {
    "execution": {
     "iopub.execute_input": "2024-03-18T16:06:55.875220Z",
     "iopub.status.busy": "2024-03-18T16:06:55.875009Z",
     "iopub.status.idle": "2024-03-18T16:06:58.063472Z",
     "shell.execute_reply": "2024-03-18T16:06:58.063031Z",
     "shell.execute_reply.started": "2024-03-18T16:06:55.875201Z"
    },
    "tags": []
   },
   "outputs": [],
   "source": [
    "# basic setup\n",
    "import datetime\n",
    "from dateutil.relativedelta import relativedelta\n",
    "import matplotlib.pyplot as plt\n",
    "import numpy as np\n",
    "import os\n",
    "import pandas as pd\n",
    "from pathlib import Path\n",
    "import pytz\n",
    "import statsmodels.api as sm\n",
    "import statsmodels.formula.api as smf\n",
    "import string\n",
    "import sys"
   ]
  },
  {
   "cell_type": "markdown",
   "id": "bdc17a57-784b-4019-80a3-66ec2f097750",
   "metadata": {
    "execution": {
     "iopub.execute_input": "2024-03-18T16:06:28.785108Z",
     "iopub.status.busy": "2024-03-18T16:06:28.784880Z",
     "iopub.status.idle": "2024-03-18T16:06:28.787170Z",
     "shell.execute_reply": "2024-03-18T16:06:28.786792Z",
     "shell.execute_reply.started": "2024-03-18T16:06:28.785088Z"
    },
    "tags": []
   },
   "source": [
    "## Create Date/Time"
   ]
  },
  {
   "cell_type": "code",
   "execution_count": 4,
   "id": "351f4eb2-8247-4d98-9201-26955910b4ec",
   "metadata": {
    "execution": {
     "iopub.execute_input": "2024-03-18T16:07:00.202798Z",
     "iopub.status.busy": "2024-03-18T16:07:00.202594Z",
     "iopub.status.idle": "2024-03-18T16:07:00.209485Z",
     "shell.execute_reply": "2024-03-18T16:07:00.209097Z",
     "shell.execute_reply.started": "2024-03-18T16:07:00.202777Z"
    },
    "tags": []
   },
   "outputs": [
    {
     "name": "stdout",
     "output_type": "stream",
     "text": [
      "2020-01-01\n",
      "2020-01-01 00:00:00\n",
      "2020-01-01 12:00:00\n",
      "2020\n",
      "1\n",
      "2\n",
      "12\n",
      "30\n",
      "15\n",
      "3\n",
      "20200101 12:30:15\n",
      "2020-01-01 12:30:15\n"
     ]
    }
   ],
   "source": [
    "# create date\n",
    "# 1/1/20\n",
    "print(datetime.date(2020, 1, 1))\n",
    "\n",
    "# create datetime\n",
    "# 1/1/20 at midnight\n",
    "print(datetime.datetime(2020, 1, 1))\n",
    "# 1/1/20 at midday\n",
    "print(datetime.datetime(2020, 1, 1, 12, 0))\n",
    "\n",
    "# get specific components of datetime:\n",
    "date1 = datetime.datetime(2020, 1, 2, 12, 30, 15)\n",
    "print(date1.year)\n",
    "print(date1.month)\n",
    "print(date1.day)\n",
    "print(date1.hour)\n",
    "print(date1.minute)\n",
    "print(date1.second)\n",
    "# returns the day of the week where Monday is 0 and Sunday is 6\n",
    "print(date1.weekday())\n",
    "\n",
    "# convert datetime to/from string\n",
    "date1 = datetime.datetime(2020, 1, 1, 12, 30, 15)\n",
    "# convert to string\n",
    "date2 = date1.strftime('%Y%m%d %H:%M:%S')\n",
    "print(date2)\n",
    "# convert to datetime\n",
    "date3 = datetime.datetime.strptime(date2, '%Y%m%d %H:%M:%S')\n",
    "print(date3)"
   ]
  },
  {
   "cell_type": "markdown",
   "id": "addce258-991a-4023-8a3b-088eee040251",
   "metadata": {
    "execution": {
     "iopub.execute_input": "2024-03-18T16:07:50.750881Z",
     "iopub.status.busy": "2024-03-18T16:07:50.750679Z",
     "iopub.status.idle": "2024-03-18T16:07:50.752820Z",
     "shell.execute_reply": "2024-03-18T16:07:50.752465Z",
     "shell.execute_reply.started": "2024-03-18T16:07:50.750863Z"
    },
    "tags": []
   },
   "source": [
    "## Relative Delta"
   ]
  },
  {
   "cell_type": "code",
   "execution_count": 6,
   "id": "d2ea0301-fd10-4e62-9eb3-795993753af7",
   "metadata": {
    "execution": {
     "iopub.execute_input": "2024-03-18T16:08:04.637059Z",
     "iopub.status.busy": "2024-03-18T16:08:04.636819Z",
     "iopub.status.idle": "2024-03-18T16:08:04.641164Z",
     "shell.execute_reply": "2024-03-18T16:08:04.640767Z",
     "shell.execute_reply.started": "2024-03-18T16:08:04.637040Z"
    },
    "tags": []
   },
   "outputs": [
    {
     "name": "stdout",
     "output_type": "stream",
     "text": [
      "2020-01-03 12:00:00\n",
      "2020-01-01 12:30:00\n",
      "2020-02-01 12:00:00\n",
      "2021-01-01 12:00:00\n"
     ]
    }
   ],
   "source": [
    "date1 = datetime.datetime(2020, 1, 1, 12, 0)\n",
    "\n",
    "# datetime.relativedelta can only take fixed time periods\n",
    "# so it can only take days/seconds/minutes/hours/weeks but not years/months\n",
    "date2 = date1 + datetime.timedelta(days = 2)\n",
    "print(date2)\n",
    "date2 = date1 + datetime.timedelta(minutes = 30)\n",
    "print(date2)\n",
    "\n",
    "# relativedelta from dateutil offers more functionality here\n",
    "date2 = date1 + relativedelta(months = 1)\n",
    "print(date2)\n",
    "date2 = date1 + relativedelta(years = 1)\n",
    "print(date2)"
   ]
  },
  {
   "cell_type": "markdown",
   "id": "15cba23b-ee64-4270-a577-0d832ea68a5f",
   "metadata": {
    "execution": {
     "iopub.execute_input": "2024-03-18T16:08:33.246947Z",
     "iopub.status.busy": "2024-03-18T16:08:33.246750Z",
     "iopub.status.idle": "2024-03-18T16:08:33.248943Z",
     "shell.execute_reply": "2024-03-18T16:08:33.248579Z",
     "shell.execute_reply.started": "2024-03-18T16:08:33.246928Z"
    },
    "tags": []
   },
   "source": [
    "## Timestamp"
   ]
  },
  {
   "cell_type": "code",
   "execution_count": 8,
   "id": "3b53e4ee-ae1f-4657-a5e1-b4d3c669b4e9",
   "metadata": {
    "execution": {
     "iopub.execute_input": "2024-03-18T16:08:46.008265Z",
     "iopub.status.busy": "2024-03-18T16:08:46.008049Z",
     "iopub.status.idle": "2024-03-18T16:08:46.013985Z",
     "shell.execute_reply": "2024-03-18T16:08:46.013570Z",
     "shell.execute_reply.started": "2024-03-18T16:08:46.008246Z"
    },
    "tags": []
   },
   "outputs": [
    {
     "name": "stdout",
     "output_type": "stream",
     "text": [
      "2020-01-02 12:30:15\n",
      "2020-01-02 12:30:15\n",
      "2020\n",
      "1\n",
      "2\n",
      "12\n",
      "30\n",
      "15\n",
      "3\n",
      "2020-01-02 12:30:15\n",
      "2020-01-02 12:30:15\n",
      "2020-01-02\n",
      "2020-01-02 00:00:00\n"
     ]
    }
   ],
   "source": [
    "# can get timestamp from string\n",
    "date1 = pd.Timestamp('2020-01-02 12:30:15')\n",
    "print(date1)\n",
    "\n",
    "# can get timestamp from separate inputs\n",
    "date1 = pd.Timestamp(2020, 1, 2, 12, 30, 15)\n",
    "print(date1)\n",
    "\n",
    "# attributes\n",
    "date1 = pd.Timestamp(2020, 1, 2, 12, 30, 15)\n",
    "print(date1.year)\n",
    "print(date1.month)\n",
    "print(date1.day)\n",
    "print(date1.hour)\n",
    "print(date1.minute)\n",
    "print(date1.second)\n",
    "# returns the day of the week where Monday is 0 and Sunday is 6\n",
    "print(date1.weekday())\n",
    "\n",
    "# convert to datetime\n",
    "date1 = pd.Timestamp('2020-01-02 12:30:15').to_pydatetime()\n",
    "print(date1)\n",
    "# convert back to pandas Timestamp\n",
    "date2 = pd.Timestamp(date1)\n",
    "print(date2)\n",
    "\n",
    "# convert to date\n",
    "date1 = pd.Timestamp('2020-01-02 12:30:15').date()\n",
    "print(date1)\n",
    "# convert back to pandas Timestamp\n",
    "date2 = pd.Timestamp(date1)\n",
    "print(date2)"
   ]
  },
  {
   "cell_type": "markdown",
   "id": "16232e70-c02e-4455-aff9-8681842316fb",
   "metadata": {},
   "source": [
    "## List of Datetimes/Timestamps"
   ]
  },
  {
   "cell_type": "code",
   "execution_count": 9,
   "id": "8cd88413-4fa3-4c25-b0be-5d8e7744ec05",
   "metadata": {
    "execution": {
     "iopub.execute_input": "2024-03-18T16:09:46.835949Z",
     "iopub.status.busy": "2024-03-18T16:09:46.835742Z",
     "iopub.status.idle": "2024-03-18T16:09:46.851602Z",
     "shell.execute_reply": "2024-03-18T16:09:46.851170Z",
     "shell.execute_reply.started": "2024-03-18T16:09:46.835929Z"
    },
    "tags": []
   },
   "outputs": [
    {
     "name": "stdout",
     "output_type": "stream",
     "text": [
      "[datetime.date(1983, 1, 1), datetime.date(1983, 1, 2), datetime.date(1983, 1, 3), datetime.date(1983, 1, 4), datetime.date(1983, 1, 5), datetime.date(1983, 1, 6), datetime.date(1983, 1, 7)]\n",
      "[datetime.datetime(1983, 1, 1, 0, 0), datetime.datetime(1983, 1, 2, 0, 0), datetime.datetime(1983, 1, 3, 0, 0), datetime.datetime(1983, 1, 4, 0, 0), datetime.datetime(1983, 1, 5, 0, 0), datetime.datetime(1983, 1, 6, 0, 0), datetime.datetime(1983, 1, 7, 0, 0)]\n",
      "[datetime.date(1983, 1, 1), datetime.date(1983, 1, 3), datetime.date(1983, 1, 5), datetime.date(1983, 1, 7)]\n",
      "DatetimeIndex(['1983-01-01', '1983-01-02', '1983-01-03'], dtype='datetime64[ns]', freq='D')\n",
      "DatetimeIndex(['1983-01-01', '1983-01-02', '1983-01-03'], dtype='datetime64[ns]', freq='D')\n",
      "DatetimeIndex(['1983-01-01', '1983-01-02', '1983-01-03'], dtype='datetime64[ns]', freq='D')\n",
      "DatetimeIndex(['1983-01-01', '1983-01-02', '1983-01-03'], dtype='datetime64[ns]', freq='D')\n",
      "DatetimeIndex(['1983-01-01 00:00:00', '1983-01-01 12:00:00',\n",
      "               '1983-01-02 00:00:00', '1983-01-02 12:00:00',\n",
      "               '1983-01-03 00:00:00'],\n",
      "              dtype='datetime64[ns]', freq='12H')\n",
      "DatetimeIndex(['1983-01-31', '1983-02-28', '1983-03-31'], dtype='datetime64[ns]', freq='M')\n",
      "DatetimeIndex(['1983-03-31', '1983-06-30', '1983-09-30'], dtype='datetime64[ns]', freq='Q-DEC')\n",
      "[datetime.datetime(1983, 1, 1, 0, 0) datetime.datetime(1983, 1, 2, 0, 0)\n",
      " datetime.datetime(1983, 1, 3, 0, 0)]\n",
      "[Timestamp('1983-01-01 00:00:00'), Timestamp('1983-01-02 00:00:00'), Timestamp('1983-01-03 00:00:00')]\n"
     ]
    }
   ],
   "source": [
    "# get all dates from 1983-01-01 to 1983-01-07 including 1983-01-01 and 1983-01-07\n",
    "startdate = datetime.date(1983, 1, 1)\n",
    "enddate = datetime.date(1983, 1, 7)\n",
    "daydiff = (enddate - startdate).days\n",
    "dates = [datetime.date(startdate.year, startdate.month, startdate.day) + datetime.timedelta(days = day) for day in range(0, daydiff + 1)]\n",
    "print(dates)\n",
    "\n",
    "# same approach with datetime rather than date\n",
    "startdate = datetime.datetime(1983, 1, 1)\n",
    "enddate = datetime.datetime(1983, 1, 7)\n",
    "daydiff = (enddate - startdate).days\n",
    "dates = [datetime.datetime(startdate.year, startdate.month, startdate.day) + datetime.timedelta(days = day) for day in range(0, daydiff + 1)]\n",
    "print(dates)\n",
    "\n",
    "# get all dates from 1983-01-01 to 1983-01-07 including 1983-01-01 and 1983-01-07 with a frequency of every 2 days\n",
    "freq = 2\n",
    "startdate = datetime.date(1983, 1, 1)\n",
    "enddate = datetime.date(1983, 1, 7)\n",
    "daydiff = (enddate - startdate).days\n",
    "dates = [datetime.date(startdate.year, startdate.month, startdate.day) + datetime.timedelta(days = day) for day in range(0, daydiff + 1, freq)]\n",
    "print(dates)\n",
    "\n",
    "# pandas timestamp create\n",
    "# note uses american date format\n",
    "dates = pd.date_range(start = '1/1/1983', end = '1/3/1983')\n",
    "print(dates)\n",
    "dates = pd.date_range(start = '1/1/1983', periods = 3)\n",
    "print(dates)\n",
    "dates = pd.date_range(end = '1/3/1983', periods = 3)\n",
    "print(dates)\n",
    "dates = pd.date_range(start = '1/1/1983', end = '1/3/1983', freq = '1D')\n",
    "print(dates)\n",
    "\n",
    "# see all possible frequencies with date_range here: https://pandas.pydata.org/pandas-docs/stable/user_guide/timeseries.html#offset-aliases\n",
    "\n",
    "# every 12 hours\n",
    "dates = pd.date_range(start = '1/1/1983', end = '1/3/1983', freq = '12H')\n",
    "print(dates)\n",
    "\n",
    "# every month\n",
    "dates = pd.date_range(start = '1/1/1983', end = '4/1/1983', freq = 'M')\n",
    "print(dates)\n",
    "\n",
    "# every quarter\n",
    "dates = pd.date_range(start = '1/1/1983', end = '10/1/1983', freq = 'Q')\n",
    "print(dates)\n",
    "\n",
    "# convert to datetime list from pandas timestamp list\n",
    "dates1 = pd.date_range(start = '1/1/1983', end = '1/3/1983')\n",
    "dates2 = dates1.to_pydatetime()\n",
    "print(dates2)\n",
    "# convert back to timestamp\n",
    "dates3 = [pd.Timestamp(date) for date in dates2]\n",
    "print(dates3)"
   ]
  },
  {
   "cell_type": "markdown",
   "id": "12da770c-c553-4b28-bf1f-f64cbb293f34",
   "metadata": {},
   "source": [
    "## Convert Timezone"
   ]
  },
  {
   "cell_type": "code",
   "execution_count": 10,
   "id": "45757307-ef7c-4cc2-9f8f-0ecce99d0374",
   "metadata": {
    "execution": {
     "iopub.execute_input": "2024-03-18T16:10:28.760937Z",
     "iopub.status.busy": "2024-03-18T16:10:28.760736Z",
     "iopub.status.idle": "2024-03-18T16:10:30.162181Z",
     "shell.execute_reply": "2024-03-18T16:10:30.161694Z",
     "shell.execute_reply.started": "2024-03-18T16:10:28.760917Z"
    },
    "tags": []
   },
   "outputs": [
    {
     "name": "stdout",
     "output_type": "stream",
     "text": [
      "2024-03-18 12:10:28.762802-04:00\n",
      "America/New_York\n",
      "2024-03-18 16:10:28.762802+00:00\n",
      "2024-03-18 12:10:28.762802-04:00\n",
      "2024-03-18 16:10:30.160275+00:00\n"
     ]
    }
   ],
   "source": [
    "# mainly understood from:\n",
    "# https://howchoo.com/g/ywi5m2vkodk/working-with-datetime-objects-and-timezones-in-python\n",
    "\n",
    "# see list of all pytz timezones using pytz.all_timezones\n",
    "# and common timezones using pytz.common_timezones\n",
    "\n",
    "d = datetime.datetime.now()\n",
    "la = pytz.timezone(\"America/New_York\")\n",
    "d_la = la.localize(d)\n",
    "print(d_la)\n",
    "print(d_la.tzinfo)\n",
    "\n",
    "d_utc = d_la.astimezone(pytz.timezone(\"GMT\"))\n",
    "print(d_utc)\n",
    "d_la = d_utc.astimezone(la)\n",
    "print(d_la)\n",
    "\n",
    "# one line\n",
    "print(pytz.timezone(\"America/New_York\").localize(datetime.datetime.now()).astimezone(pytz.timezone(\"GMT\")))"
   ]
  },
  {
   "cell_type": "code",
   "execution_count": null,
   "id": "bbe3a189-7441-41a0-a02c-ac023c08c92c",
   "metadata": {},
   "outputs": [],
   "source": [
    "# My Date Time Code"
   ]
  },
  {
   "cell_type": "code",
   "execution_count": 14,
   "id": "80c48d49-ba81-4b87-bf67-447859984eec",
   "metadata": {
    "execution": {
     "iopub.execute_input": "2024-03-18T16:13:05.279903Z",
     "iopub.status.busy": "2024-03-18T16:13:05.279657Z",
     "iopub.status.idle": "2024-03-18T16:13:05.527434Z",
     "shell.execute_reply": "2024-03-18T16:13:05.526871Z",
     "shell.execute_reply.started": "2024-03-18T16:13:05.279877Z"
    },
    "tags": []
   },
   "outputs": [
    {
     "name": "stdout",
     "output_type": "stream",
     "text": [
      "2010-01-01 00:00:00\n",
      "20100101d\n",
      "2010-01-11 00:00:00\n",
      "[datetime.datetime(2010, 1, 1, 0, 0) datetime.datetime(2010, 1, 2, 0, 0)\n",
      " datetime.datetime(2010, 1, 3, 0, 0) datetime.datetime(2010, 1, 4, 0, 0)\n",
      " datetime.datetime(2010, 1, 5, 0, 0)]\n",
      "['20100101d', '20100102d', '20100103d', '20100104d', '20100105d']\n",
      "[4, 5, 6, 0, 1]\n",
      "Empty DataFrame\n",
      "Columns: []\n",
      "Index: [20100101d, 20100104d, 20100105d]\n",
      "Empty DataFrame\n",
      "Columns: []\n",
      "Index: [20100101d, 20100102d, 20100103d, 20100104d, 20100105d]\n"
     ]
    }
   ],
   "source": [
    "\n",
    "sys.path.append('submodules/time-index-func/')\n",
    "from time_index_func import *\n",
    "\n",
    "# basic convert time\n",
    "mytime = '20100101d'\n",
    "dt = convertmytimetodatetime(mytime)\n",
    "print(dt)\n",
    "mytime = convertdatetimetomytime(dt, 'd')\n",
    "print(mytime)\n",
    "\n",
    "# add 10 days to a date\n",
    "periods = addperiodsbyfreq(datetime.datetime(2010, 1, 1), 'd', 10)\n",
    "print(periods)\n",
    "\n",
    "# points between datetime\n",
    "pointsbetween = getallpointsbetween(datetime.datetime(2010, 1, 1), datetime.datetime(2010, 1, 5), 'd')\n",
    "print(pointsbetween)\n",
    "\n",
    "# points between mytime\n",
    "pointsbetween = getallpointsbetween_mytime('20100101d', '20100105d')\n",
    "print(pointsbetween)\n",
    "\n",
    "# days of week\n",
    "dow = getdayofweek(getallpointsbetween_mytime('20100101d', '20100105d'))\n",
    "print(dow)\n",
    "\n",
    "# weekendsonly\n",
    "df = pd.DataFrame(index = getallpointsbetween_mytime('20100101d', '20100105d'))\n",
    "dfnoweekend = weekdaysonly(df)\n",
    "print(dfnoweekend)\n",
    "\n",
    "# fill time\n",
    "df = filltime(dfnoweekend)\n",
    "print(df)\n",
    "\n",
    "# probably don't use this\n",
    "# df = pd.DataFrame(index = ['20100101d', '20100201d', '20100202d'])\n",
    "# df = raisefreq(df, 'm')\n",
    "# print(df)\n"
   ]
  }
 ],
 "metadata": {
  "kernelspec": {
   "display_name": "anaconda3",
   "language": "python",
   "name": "anaconda3"
  },
  "language_info": {
   "codemirror_mode": {
    "name": "ipython",
    "version": 3
   },
   "file_extension": ".py",
   "mimetype": "text/x-python",
   "name": "python",
   "nbconvert_exporter": "python",
   "pygments_lexer": "ipython3",
   "version": "3.8.3"
  }
 },
 "nbformat": 4,
 "nbformat_minor": 5
}
