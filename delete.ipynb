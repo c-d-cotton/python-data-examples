{
 "cells": [
  {
   "cell_type": "markdown",
   "id": "e80bd5ff-812f-476c-b00c-feb211309085",
   "metadata": {},
   "source": [
    "# Regressions Basic Examples"
   ]
  },
  {
   "cell_type": "code",
   "execution_count": 1,
   "id": "a4c30781-422e-4ef6-b517-2d063100c730",
   "metadata": {
    "execution": {
     "iopub.execute_input": "2024-08-30T16:46:46.971313Z",
     "iopub.status.busy": "2024-08-30T16:46:46.971159Z",
     "iopub.status.idle": "2024-08-30T16:46:52.042951Z",
     "shell.execute_reply": "2024-08-30T16:46:52.042528Z",
     "shell.execute_reply.started": "2024-08-30T16:46:46.971298Z"
    },
    "tags": []
   },
   "outputs": [
    {
     "name": "stderr",
     "output_type": "stream",
     "text": [
      "/home/home02/a1cdc01/doc/ecodegen/python-data-examples/submodules/python-tabular-output/tab_general_func.py:85: SyntaxWarning: invalid escape sequence '\\$'\n",
      "  adjusted = adjusted.replace('\\$', '00')\n",
      "/home/home02/a1cdc01/doc/ecodegen/python-data-examples/submodules/python-tabular-output/tab_general_func.py:86: SyntaxWarning: invalid escape sequence '\\_'\n",
      "  adjusted = adjusted.replace('\\_', '00')\n",
      "/home/home02/a1cdc01/doc/ecodegen/python-data-examples/submodules/python-tabular-output/tab_general_func.py:105: SyntaxWarning: invalid escape sequence '\\m'\n",
      "  \"\"\"\n"
     ]
    }
   ],
   "source": [
    "# basic setup\n",
    "import datetime\n",
    "from dateutil.relativedelta import relativedelta\n",
    "import matplotlib.pyplot as plt\n",
    "import numpy as np\n",
    "import os\n",
    "import pandas as pd\n",
    "from pathlib import Path\n",
    "import pytz\n",
    "import statsmodels.api as sm\n",
    "import statsmodels.formula.api as smf\n",
    "import string\n",
    "import sys\n",
    "\n",
    "# function to create a tabular table\n",
    "sys.path.append('submodules/python-tabular-output/')\n",
    "from tab_general_func import tabularconvert\n",
    "from tab_general_func import mergetabsecs\n",
    "from tab_sm_func import getcoefftabmatrix\n",
    "from tab_sm_func import getparamtabmatrix\n",
    "from tab_sm_func import getsmresultstable"
   ]
  },
  {
   "cell_type": "markdown",
   "id": "e60954b4-8b2c-4eb3-92e2-26004fc73507",
   "metadata": {},
   "source": [
    "## Set Up Data"
   ]
  },
  {
   "cell_type": "code",
   "execution_count": 7,
   "id": "2dd0afa7-e408-4264-9212-b14c6ef9e4b4",
   "metadata": {
    "execution": {
     "iopub.execute_input": "2024-08-30T16:51:06.151373Z",
     "iopub.status.busy": "2024-08-30T16:51:06.151038Z",
     "iopub.status.idle": "2024-08-30T16:51:06.163603Z",
     "shell.execute_reply": "2024-08-30T16:51:06.163250Z",
     "shell.execute_reply.started": "2024-08-30T16:51:06.151357Z"
    },
    "tags": []
   },
   "outputs": [
    {
     "data": {
      "text/plain": [
       "array([[1.34164053, 1.01523675, 1.88009292],\n",
       "       [0.7192193 , 1.05271487, 2.46390354],\n",
       "       [1.19563134, 1.04629192, 1.84228274],\n",
       "       [0.86665291, 1.10406576, 2.40810729],\n",
       "       [1.13703152, 1.13361499, 2.15942146],\n",
       "       [1.04581762, 1.0780185 , 2.13805598],\n",
       "       [0.97939067, 1.02102666, 2.28194852],\n",
       "       [1.03974013, 1.13767313, 1.96918589],\n",
       "       [1.05609484, 1.14090846, 1.69027369],\n",
       "       [1.405498  , 1.01223713, 1.65511725]])"
      ]
     },
     "execution_count": 7,
     "metadata": {},
     "output_type": "execute_result"
    }
   ],
   "source": [
    "# set random number seed\n",
    "np.random.seed(1)\n",
    "\n",
    "# Example of generating random number distribution\n",
    "# loc = mean, scale = sd, size = array of distribution\n",
    "x1 = np.random.normal(loc = 0, scale = 1, size = [100])\n",
    "# low = lower bound, high = upper bound, size = array of distribution\n",
    "x2 = np.random.uniform(low = 0, high = 1, size = [100])\n",
    "\n",
    "# dummies creation\n",
    "x3 = list(range(10))\n",
    "x3 = np.repeat(x3, 10)\n",
    "\n",
    "epsilon = np.random.normal(size = [100])\n",
    "\n",
    "y = 1 + x1 + 2 * x2 + epsilon\n",
    "\n",
    "df = pd.DataFrame({'y': y, 'x1': x1, 'x2': x2, 'x3': x3})\n",
    "\n",
    "model = smf.ols(formula = 'y ~ x1 + x2', data=df).fit()\n",
    "\n",
    "model.conf_int()\n",
    "model.cov_params()\n",
    "\n",
    "np.random.multivariate_normal(mean = model.params, cov = model.cov_params(), size = 10)"
   ]
  },
  {
   "cell_type": "markdown",
   "id": "eb82b1bf-9ec8-4cea-befb-be838b261634",
   "metadata": {},
   "source": [
    "## Regression with Matrices"
   ]
  },
  {
   "cell_type": "code",
   "execution_count": 3,
   "id": "bfad7b05-eeeb-43e8-ab9a-6aeb17197895",
   "metadata": {
    "execution": {
     "iopub.execute_input": "2024-03-18T16:19:34.051788Z",
     "iopub.status.busy": "2024-03-18T16:19:34.051577Z",
     "iopub.status.idle": "2024-03-18T16:19:34.068588Z",
     "shell.execute_reply": "2024-03-18T16:19:34.068124Z",
     "shell.execute_reply.started": "2024-03-18T16:19:34.051766Z"
    },
    "tags": []
   },
   "outputs": [
    {
     "name": "stdout",
     "output_type": "stream",
     "text": [
      "                            OLS Regression Results                            \n",
      "==============================================================================\n",
      "Dep. Variable:                      y   R-squared:                       0.638\n",
      "Model:                            OLS   Adj. R-squared:                  0.592\n",
      "Method:                 Least Squares   F-statistic:                     14.09\n",
      "Date:                Mon, 18 Mar 2024   Prob (F-statistic):           3.43e-15\n",
      "Time:                        12:19:34   Log-Likelihood:                -135.08\n",
      "No. Observations:                 100   AIC:                             294.2\n",
      "Df Residuals:                      88   BIC:                             325.4\n",
      "Df Model:                          11                                         \n",
      "Covariance Type:            nonrobust                                         \n",
      "==============================================================================\n",
      "                 coef    std err          t      P>|t|      [0.025      0.975]\n",
      "------------------------------------------------------------------------------\n",
      "const          0.9071      0.180      5.044      0.000       0.550       1.264\n",
      "x1             1.1182      0.115      9.700      0.000       0.889       1.347\n",
      "x2             2.2151      0.338      6.545      0.000       1.543       2.888\n",
      "x3dummy_0      0.2279      0.300      0.758      0.450      -0.369       0.825\n",
      "x3dummy_1      0.5030      0.300      1.676      0.097      -0.093       1.099\n",
      "x3dummy_2      0.3487      0.299      1.166      0.247      -0.246       0.943\n",
      "x3dummy_3     -0.5936      0.301     -1.972      0.052      -1.192       0.005\n",
      "x3dummy_4      0.4928      0.300      1.643      0.104      -0.103       1.089\n",
      "x3dummy_5      0.1917      0.303      0.633      0.528      -0.410       0.793\n",
      "x3dummy_6     -0.7107      0.305     -2.329      0.022      -1.317      -0.104\n",
      "x3dummy_7     -0.1017      0.300     -0.339      0.736      -0.699       0.495\n",
      "x3dummy_8      0.0563      0.299      0.188      0.851      -0.538       0.651\n",
      "x3dummy_9      0.4928      0.305      1.615      0.110      -0.113       1.099\n",
      "==============================================================================\n",
      "Omnibus:                        1.199   Durbin-Watson:                   2.469\n",
      "Prob(Omnibus):                  0.549   Jarque-Bera (JB):                0.703\n",
      "Skew:                           0.141   Prob(JB):                        0.703\n",
      "Kurtosis:                       3.298   Cond. No.                     1.51e+16\n",
      "==============================================================================\n",
      "\n",
      "Warnings:\n",
      "[1] Standard Errors assume that the covariance matrix of the errors is correctly specified.\n",
      "[2] The smallest eigenvalue is 6.02e-31. This might indicate that there are\n",
      "strong multicollinearity problems or that the design matrix is singular.\n"
     ]
    }
   ],
   "source": [
    "# Basic Regression where I create matrices\n",
    "df = dforiginal.copy()\n",
    "\n",
    "# to add dummies\n",
    "df2 = pd.get_dummies(df['x3'], prefix = 'x3dummy')\n",
    "df = pd.concat([df, df2], axis = 1)\n",
    "\n",
    "y = df['y']\n",
    "X = df[['x1', 'x2'] + [column for column in df.columns if column.startswith('x3dummy')]]\n",
    "\n",
    "X = sm.add_constant(X)\n",
    "\n",
    "model = sm.OLS(y, X, missing = 'drop').fit()\n",
    "print(model.summary())"
   ]
  },
  {
   "cell_type": "markdown",
   "id": "274c1616-1dc9-4db6-b8f3-982550e06768",
   "metadata": {},
   "source": [
    "## Regression with Formula"
   ]
  },
  {
   "cell_type": "code",
   "execution_count": 4,
   "id": "f2644839-7658-463c-881f-26120085549c",
   "metadata": {
    "execution": {
     "iopub.execute_input": "2024-03-18T16:24:10.291667Z",
     "iopub.status.busy": "2024-03-18T16:24:10.291435Z",
     "iopub.status.idle": "2024-03-18T16:24:10.410171Z",
     "shell.execute_reply": "2024-03-18T16:24:10.409683Z",
     "shell.execute_reply.started": "2024-03-18T16:24:10.291644Z"
    },
    "tags": []
   },
   "outputs": [],
   "source": [
    "df = dforiginal.copy()\n",
    "\n",
    "# basic\n",
    "model = smf.ols(formula = 'y ~ x1 + x2', data=df).fit()\n",
    "\n",
    "# dummy variable\n",
    "model = smf.ols(formula = 'y ~ x1 + x2 + C(x3)', data=df).fit()\n",
    "\n",
    "# no constant\n",
    "model = smf.ols(formula = 'y ~ x1 + x2 -1', data=df).fit()\n",
    "\n",
    "# interaction\n",
    "# : includes only x1*x2\n",
    "model = smf.ols(formula = 'y ~ x1 : x2', data=df).fit()\n",
    "# * includes x1, x2, x1*x2\n",
    "model = smf.ols(formula = 'y ~ x1 * x2', data=df).fit()\n",
    "\n",
    "# apply logs\n",
    "model = smf.ols(formula = 'y ~ np.log(np.exp(x1)) + x2', data=df).fit()"
   ]
  },
  {
   "cell_type": "markdown",
   "id": "ec37c4ac-27b6-4510-8d23-6343ea304f07",
   "metadata": {},
   "source": [
    "## Alternative Standard Errors"
   ]
  },
  {
   "cell_type": "code",
   "execution_count": 5,
   "id": "16ddf497-22aa-41fc-af01-3a7d1487f948",
   "metadata": {
    "execution": {
     "iopub.execute_input": "2024-03-18T16:24:59.167118Z",
     "iopub.status.busy": "2024-03-18T16:24:59.166895Z",
     "iopub.status.idle": "2024-03-18T16:24:59.266027Z",
     "shell.execute_reply": "2024-03-18T16:24:59.265572Z",
     "shell.execute_reply.started": "2024-03-18T16:24:59.167099Z"
    },
    "tags": []
   },
   "outputs": [],
   "source": [
    "    # Homoskedastic standard errors\n",
    "    model = smf.ols(formula = 'y ~ x1 + x2', data=df).fit()\n",
    "\n",
    "    # Heteroskedastic (robust) standard errors\n",
    "    model = smf.ols(formula = 'y ~ x1 + x2', data=df).fit(cov_type = 'HC3')\n",
    "\n",
    "    # Clustered standard errors\n",
    "    model = smf.ols(formula = 'y ~ x1 + x2', data=df).fit(cov_type = 'cluster', cov_kwds = {'groups': df['x3']})\n",
    "\n",
    "    # HAC standard errors with Bartlett Kernel\n",
    "    model = smf.ols(formula = 'y ~ x1 + x2', data=df).fit(cov_type = 'HAC', cov_kwds = {'maxlags': 1})"
   ]
  },
  {
   "cell_type": "markdown",
   "id": "8d75b4e8-cb69-4c0a-9052-abab9a658904",
   "metadata": {
    "execution": {
     "iopub.execute_input": "2024-03-18T18:18:44.815054Z",
     "iopub.status.busy": "2024-03-18T18:18:44.814834Z",
     "iopub.status.idle": "2024-03-18T18:18:44.817378Z",
     "shell.execute_reply": "2024-03-18T18:18:44.816967Z",
     "shell.execute_reply.started": "2024-03-18T18:18:44.815034Z"
    },
    "tags": []
   },
   "source": [
    "## Regression Tables"
   ]
  },
  {
   "cell_type": "markdown",
   "id": "2c729963-7863-499b-9b2f-f304c5f1bf34",
   "metadata": {
    "execution": {
     "iopub.execute_input": "2024-03-18T18:19:55.909801Z",
     "iopub.status.busy": "2024-03-18T18:19:55.909638Z",
     "iopub.status.idle": "2024-03-18T18:19:55.912717Z",
     "shell.execute_reply": "2024-03-18T18:19:55.912236Z",
     "shell.execute_reply.started": "2024-03-18T18:19:55.909782Z"
    },
    "tags": []
   },
   "source": [
    "Adjust data for regression tables."
   ]
  },
  {
   "cell_type": "code",
   "execution_count": 10,
   "id": "e5c53b73-739a-4c99-a8f2-0677fa59e2a2",
   "metadata": {
    "execution": {
     "iopub.execute_input": "2024-03-18T18:20:11.243123Z",
     "iopub.status.busy": "2024-03-18T18:20:11.242907Z",
     "iopub.status.idle": "2024-03-18T18:20:11.251798Z",
     "shell.execute_reply": "2024-03-18T18:20:11.251386Z",
     "shell.execute_reply.started": "2024-03-18T18:20:11.243101Z"
    },
    "tags": []
   },
   "outputs": [],
   "source": [
    "N = 1000\n",
    "Nfirsthalf = N // 2\n",
    "beta1 = 1\n",
    "beta2 = 1\n",
    "\n",
    "x1 = np.random.normal(size = N)\n",
    "x2 = np.random.normal(size = N)\n",
    "epsilon = np.random.normal(size = N)\n",
    "\n",
    "df = pd.DataFrame({'x1': x1, 'x2': x2, 'epsilon': epsilon})\n",
    "df['y'] = beta1 * df['x1'] + beta2 * df['x2'] + df['epsilon']\n",
    "\n",
    "df['firsthalf'] = 0\n",
    "df.loc[df.index[: Nfirsthalf], 'firsthalf'] = 1\n",
    "\n",
    "dffirsthalf = df[df['firsthalf'] == 1].copy()\n",
    "dfsecondhalf = df[df['firsthalf'] == 0].copy()"
   ]
  },
  {
   "cell_type": "markdown",
   "id": "6f6c76af-92a5-4ce4-b90b-b3fac31ff94e",
   "metadata": {},
   "source": [
    "## Regression Table Basic"
   ]
  },
  {
   "cell_type": "code",
   "execution_count": 11,
   "id": "13508935-d189-40e2-8cc9-d4735c3a0a3d",
   "metadata": {
    "execution": {
     "iopub.execute_input": "2024-03-18T18:20:37.082338Z",
     "iopub.status.busy": "2024-03-18T18:20:37.082122Z",
     "iopub.status.idle": "2024-03-18T18:20:37.110596Z",
     "shell.execute_reply": "2024-03-18T18:20:37.110192Z",
     "shell.execute_reply.started": "2024-03-18T18:20:37.082319Z"
    },
    "tags": []
   },
   "outputs": [
    {
     "name": "stdout",
     "output_type": "stream",
     "text": [
      "          (1)      (2)      (3)     \n",
      "Intercept 0.030    0.034    0.012   \n",
      "          (0.044)  (0.043)  (0.031) \n",
      "x1        0.971***          0.952***\n",
      "          (0.045)           (0.032) \n",
      "x2                 0.975*** 0.957***\n",
      "                   (0.042)  (0.030) \n",
      "N         1000     1000     1000    \n",
      "$R^2$     0.322    0.353    0.662   \n"
     ]
    }
   ],
   "source": [
    "model0 = smf.ols(formula = 'y ~ x1', data = df).fit()\n",
    "model1 = smf.ols(formula = 'y ~ x2', data = df).fit()\n",
    "model2 = smf.ols(formula = 'y ~ x1 + x2', data = df).fit()\n",
    "models = [model0, model1, model2]\n",
    "tabular = getsmresultstable(models, printtab = True, savename = None, ynames = None, coefflist = None, coeffnames = None)"
   ]
  },
  {
   "cell_type": "markdown",
   "id": "3b3837e9-ac32-475b-9295-740edb401bd2",
   "metadata": {
    "execution": {
     "iopub.execute_input": "2024-03-18T18:20:52.733211Z",
     "iopub.status.busy": "2024-03-18T18:20:52.732980Z",
     "iopub.status.idle": "2024-03-18T18:20:52.735394Z",
     "shell.execute_reply": "2024-03-18T18:20:52.735002Z",
     "shell.execute_reply.started": "2024-03-18T18:20:52.733191Z"
    },
    "tags": []
   },
   "source": [
    "## Regression Table Adjust Which X-Variables Shown"
   ]
  },
  {
   "cell_type": "code",
   "execution_count": 13,
   "id": "746f8ce0-b327-4e91-8ab0-d725cfede77c",
   "metadata": {
    "execution": {
     "iopub.execute_input": "2024-03-18T18:21:04.676505Z",
     "iopub.status.busy": "2024-03-18T18:21:04.676299Z",
     "iopub.status.idle": "2024-03-18T18:21:04.702973Z",
     "shell.execute_reply": "2024-03-18T18:21:04.702537Z",
     "shell.execute_reply.started": "2024-03-18T18:21:04.676484Z"
    },
    "tags": []
   },
   "outputs": [
    {
     "name": "stdout",
     "output_type": "stream",
     "text": [
      "       (1)      (2)      (3)     \n",
      "x1 var 0.971***          0.952***\n",
      "       (0.045)           (0.032) \n",
      "x2              0.975*** 0.957***\n",
      "                (0.042)  (0.030) \n",
      "N      1000     1000     1000    \n",
      "$R^2$  0.322    0.353    0.662   \n"
     ]
    }
   ],
   "source": [
    "model0 = smf.ols(formula = 'y ~ x1', data = df).fit()\n",
    "model1 = smf.ols(formula = 'y ~ x2', data = df).fit()\n",
    "model2 = smf.ols(formula = 'y ~ x1 + x2', data = df).fit()\n",
    "models = [model0, model1, model2]\n",
    "\n",
    "# only show these x variables\n",
    "coefflist = ['x1', 'x2']\n",
    "# rename the x variables by the dict\n",
    "coeffnames = {'x1': 'x1 var'}\n",
    "\n",
    "tabular = getsmresultstable(models, printtab = True, savename = None, ynames = None, coefflist = coefflist, coeffnames = coeffnames)"
   ]
  },
  {
   "cell_type": "markdown",
   "id": "089f4ff3-6d9f-4eac-8cfb-855d11308e8f",
   "metadata": {},
   "source": [
    "## Regression Table Adjust Which Y-Variables Shown"
   ]
  },
  {
   "cell_type": "code",
   "execution_count": 14,
   "id": "1f265d37-d18c-4e6a-a994-dc1835f4f04e",
   "metadata": {
    "execution": {
     "iopub.execute_input": "2024-03-18T18:21:47.196487Z",
     "iopub.status.busy": "2024-03-18T18:21:47.196267Z",
     "iopub.status.idle": "2024-03-18T18:21:47.228215Z",
     "shell.execute_reply": "2024-03-18T18:21:47.227771Z",
     "shell.execute_reply.started": "2024-03-18T18:21:47.196467Z"
    },
    "tags": []
   },
   "outputs": [
    {
     "name": "stdout",
     "output_type": "stream",
     "text": [
      "Yname     y        y        y       \n",
      "Intercept 0.030    0.034    0.012   \n",
      "          (0.044)  (0.043)  (0.031) \n",
      "x1        0.971***          0.952***\n",
      "          (0.045)           (0.032) \n",
      "x2                 0.975*** 0.957***\n",
      "                   (0.042)  (0.030) \n",
      "N         1000     1000     1000    \n",
      "$R^2$     0.322    0.353    0.662   \n"
     ]
    }
   ],
   "source": [
    "model0 = smf.ols(formula = 'y ~ x1', data = df).fit()\n",
    "model1 = smf.ols(formula = 'y ~ x2', data = df).fit()\n",
    "model2 = smf.ols(formula = 'y ~ x1 + x2', data = df).fit()\n",
    "models = [model0, model1, model2]\n",
    "\n",
    "tabular = getsmresultstable(models, printtab = True, savename = None, ynames = ['Yname', 'y', 'y', 'y'])"
   ]
  },
  {
   "cell_type": "markdown",
   "id": "35ebc1a7-c755-44b0-89b3-13fadea16367",
   "metadata": {},
   "source": [
    "## Regression Table Add Afterlofl"
   ]
  },
  {
   "cell_type": "code",
   "execution_count": 15,
   "id": "5044beab-4958-42cc-8d1d-e751d7ddc848",
   "metadata": {
    "execution": {
     "iopub.execute_input": "2024-03-18T18:22:28.945313Z",
     "iopub.status.busy": "2024-03-18T18:22:28.945102Z",
     "iopub.status.idle": "2024-03-18T18:22:28.971041Z",
     "shell.execute_reply": "2024-03-18T18:22:28.970613Z",
     "shell.execute_reply.started": "2024-03-18T18:22:28.945293Z"
    },
    "tags": []
   },
   "outputs": [
    {
     "name": "stdout",
     "output_type": "stream",
     "text": [
      "          (1)      (2)        (3)        \n",
      "Intercept 0.030    0.003      0.057      \n",
      "          (0.044)  (0.064)    (0.060)    \n",
      "x1        0.971*** 0.982***   0.958***   \n",
      "          (0.045)  (0.063)    (0.063)    \n",
      "N         1000     500        500        \n",
      "$R^2$     0.322    0.326      0.317      \n",
      "Data      All      First Half Second Half\n"
     ]
    }
   ],
   "source": [
    "model0 = smf.ols(formula = 'y ~ x1', data = df).fit()\n",
    "model1 = smf.ols(formula = 'y ~ x1', data = dffirsthalf).fit()\n",
    "model2 = smf.ols(formula = 'y ~ x1', data = dfsecondhalf).fit()\n",
    "models = [model0, model1, model2]\n",
    "\n",
    "tabular = getsmresultstable(models, printtab = True, savename = None, afterlofl = [['Data', 'All', 'First Half', 'Second Half']])"
   ]
  },
  {
   "cell_type": "markdown",
   "id": "39f5ac5b-d9a9-434a-b224-afc65df4419b",
   "metadata": {
    "execution": {
     "iopub.execute_input": "2024-03-18T18:22:40.036301Z",
     "iopub.status.busy": "2024-03-18T18:22:40.036079Z",
     "iopub.status.idle": "2024-03-18T18:22:40.038477Z",
     "shell.execute_reply": "2024-03-18T18:22:40.038088Z",
     "shell.execute_reply.started": "2024-03-18T18:22:40.036280Z"
    },
    "tags": []
   },
   "source": [
    "## Regression Table Adjust Params"
   ]
  },
  {
   "cell_type": "code",
   "execution_count": 17,
   "id": "cf66e6cb-38f3-4053-bcab-0fb0422ba523",
   "metadata": {
    "execution": {
     "iopub.execute_input": "2024-03-18T18:22:51.937629Z",
     "iopub.status.busy": "2024-03-18T18:22:51.937427Z",
     "iopub.status.idle": "2024-03-18T18:22:51.965560Z",
     "shell.execute_reply": "2024-03-18T18:22:51.965131Z",
     "shell.execute_reply.started": "2024-03-18T18:22:51.937608Z"
    },
    "tags": []
   },
   "outputs": [
    {
     "name": "stdout",
     "output_type": "stream",
     "text": [
      "          (1)      (2)      (3)     \n",
      "Intercept 0.030    0.034    0.012   \n",
      "          (0.044)  (0.043)  (0.031) \n",
      "x1        0.971***          0.952***\n",
      "          (0.045)           (0.032) \n",
      "x2                 0.975*** 0.957***\n",
      "                   (0.042)  (0.030) \n",
      "N         1000     1000     1000    \n",
      "$R^2$     0.322    0.353    0.662   \n"
     ]
    }
   ],
   "source": [
    "model0 = smf.ols(formula = 'y ~ x1', data = df).fit()\n",
    "model1 = smf.ols(formula = 'y ~ x2', data = df).fit()\n",
    "model2 = smf.ols(formula = 'y ~ x1 + x2', data = df).fit()\n",
    "models = [model0, model1, model2]\n",
    "tabular = getsmresultstable(models, printtab = True, savename = None, paramlist = ['nobs', 'rsquared'], paramnames = ['N', '$R^2$'], paramdecimal = [0, 3])"
   ]
  },
  {
   "cell_type": "markdown",
   "id": "1824b022-dbd9-4df1-be8c-08ceb1028717",
   "metadata": {
    "execution": {
     "iopub.execute_input": "2024-03-18T18:23:04.981027Z",
     "iopub.status.busy": "2024-03-18T18:23:04.980810Z",
     "iopub.status.idle": "2024-03-18T18:23:04.983357Z",
     "shell.execute_reply": "2024-03-18T18:23:04.982816Z",
     "shell.execute_reply.started": "2024-03-18T18:23:04.981006Z"
    },
    "tags": []
   },
   "source": [
    "## Regression Table Multiple Panels"
   ]
  },
  {
   "cell_type": "code",
   "execution_count": 19,
   "id": "7350d1e7-3a7d-42a2-bf4a-bffc8eefac86",
   "metadata": {
    "execution": {
     "iopub.execute_input": "2024-03-18T18:23:15.860202Z",
     "iopub.status.busy": "2024-03-18T18:23:15.859985Z",
     "iopub.status.idle": "2024-03-18T18:23:15.915176Z",
     "shell.execute_reply": "2024-03-18T18:23:15.914647Z",
     "shell.execute_reply.started": "2024-03-18T18:23:15.860181Z"
    },
    "tags": []
   },
   "outputs": [
    {
     "name": "stdout",
     "output_type": "stream",
     "text": [
      "\\begin{tabular}{lccc}\n",
      "\\hline\n",
      " & (1) & (2) & (3) \\\\\n",
      "\\hline\n",
      " & \\multicolumn{3}{c}{Panel A: First Half} \\\\\n",
      "Intercept & 0.003 & -0.007 & -0.015 \\\\\n",
      " & (0.064) & (0.062) & (0.045) \\\\\n",
      "x1 & 0.982*** &  & 0.948*** \\\\\n",
      " & (0.063) &  & (0.044) \\\\\n",
      "x2 &  & 0.992*** & 0.962*** \\\\\n",
      " &  & (0.057) & (0.041) \\\\\n",
      "N & 500 & 500 & 500 \\\\\n",
      "$R^2$ & 0.326 & 0.374 & 0.678 \\\\\n",
      "\\hline\n",
      " & \\multicolumn{3}{c}{Panel B: Second Half} \\\\\n",
      "Intercept & 0.057 & 0.075 & 0.039 \\\\\n",
      " & (0.060) & (0.060) & (0.044) \\\\\n",
      "x1 & 0.958*** &  & 0.955*** \\\\\n",
      " & (0.063) &  & (0.046) \\\\\n",
      "x2 &  & 0.955*** & 0.951*** \\\\\n",
      " &  & (0.061) & (0.045) \\\\\n",
      "N & 500 & 500 & 500 \\\\\n",
      "$R^2$ & 0.317 & 0.328 & 0.643 \\\\\n",
      "\\hline\n",
      "\\end{tabular}\n",
      "\n"
     ]
    }
   ],
   "source": [
    "numreg = 3\n",
    "ynamesmatrix = [['', '(1)', '(2)', '(3)']]\n",
    "\n",
    "paneltabs = []\n",
    "panelnames = []\n",
    "\n",
    "# first half\n",
    "model0 = smf.ols(formula = 'y ~ x1', data = dffirsthalf).fit()\n",
    "model1 = smf.ols(formula = 'y ~ x2', data = dffirsthalf).fit()\n",
    "model2 = smf.ols(formula = 'y ~ x1 + x2', data = dffirsthalf).fit()\n",
    "models = [model0, model1, model2]\n",
    "paneltabs.append( getcoefftabmatrix(models) + getparamtabmatrix(models) )\n",
    "panelnames.append('First Half')\n",
    "\n",
    "# second half\n",
    "model0 = smf.ols(formula = 'y ~ x1', data = dfsecondhalf).fit()\n",
    "model1 = smf.ols(formula = 'y ~ x2', data = dfsecondhalf).fit()\n",
    "model2 = smf.ols(formula = 'y ~ x1 + x2', data = dfsecondhalf).fit()\n",
    "models = [model0, model1, model2]\n",
    "paneltabs.append( getcoefftabmatrix(models) + getparamtabmatrix(models) )\n",
    "panelnames.append('Second Half')\n",
    "\n",
    "tabsecs = []\n",
    "tabsecs.append(tabularconvert(ynamesmatrix))\n",
    "\n",
    "for i in range(len(paneltabs)):\n",
    "    paneltitle = [[''] + ['\\\\multicolumn{' + str(numreg) + '}{c}{Panel ' + string.ascii_lowercase[i].upper() + ': ' + panelnames[i] + '}']]\n",
    "    tabsecs.append( tabularconvert(paneltitle + paneltabs[i]) )\n",
    "\n",
    "tex = mergetabsecs(tabsecs, colalign = 'l' + 'c' * numreg, hlines = 'all', savename = None)\n",
    "print(tex)"
   ]
  }
 ],
 "metadata": {
  "kernelspec": {
   "display_name": "cdc2024",
   "language": "python",
   "name": "cdc2024"
  },
  "language_info": {
   "codemirror_mode": {
    "name": "ipython",
    "version": 3
   },
   "file_extension": ".py",
   "mimetype": "text/x-python",
   "name": "python",
   "nbconvert_exporter": "python",
   "pygments_lexer": "ipython3",
   "version": "3.12.2"
  }
 },
 "nbformat": 4,
 "nbformat_minor": 5
}
