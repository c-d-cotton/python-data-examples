{
 "cells": [
  {
   "cell_type": "markdown",
   "id": "fa220e1d-eeef-463f-a857-4f6fa39b128d",
   "metadata": {},
   "source": [
    "# Groupby Examples"
   ]
  },
  {
   "cell_type": "code",
   "execution_count": 7,
   "id": "96364ee3-5a8a-4fda-a308-271eac8d1352",
   "metadata": {
    "execution": {
     "iopub.execute_input": "2024-03-18T15:25:08.368414Z",
     "iopub.status.busy": "2024-03-18T15:25:08.368200Z",
     "iopub.status.idle": "2024-03-18T15:25:08.371534Z",
     "shell.execute_reply": "2024-03-18T15:25:08.371105Z",
     "shell.execute_reply.started": "2024-03-18T15:25:08.368392Z"
    },
    "tags": []
   },
   "outputs": [],
   "source": [
    "# basic setup\n",
    "import datetime\n",
    "from dateutil.relativedelta import relativedelta\n",
    "import matplotlib.pyplot as plt\n",
    "import numpy as np\n",
    "import os\n",
    "import pandas as pd\n",
    "from pathlib import Path\n",
    "import pytz\n",
    "import statsmodels.api as sm\n",
    "import statsmodels.formula.api as smf\n",
    "import string\n",
    "import sys\n",
    "\n"
   ]
  },
  {
   "cell_type": "markdown",
   "id": "6cca14a0-2519-499b-b109-e04e24666626",
   "metadata": {},
   "source": [
    "## Group Each Variable By Mean"
   ]
  },
  {
   "cell_type": "code",
   "execution_count": 11,
   "id": "44ee9a5c-7510-4bf1-9dba-09698c839cc7",
   "metadata": {
    "execution": {
     "iopub.execute_input": "2024-03-18T15:26:48.497344Z",
     "iopub.status.busy": "2024-03-18T15:26:48.497122Z",
     "iopub.status.idle": "2024-03-18T15:26:48.505085Z",
     "shell.execute_reply": "2024-03-18T15:26:48.504669Z",
     "shell.execute_reply.started": "2024-03-18T15:26:48.497324Z"
    },
    "tags": []
   },
   "outputs": [
    {
     "name": "stdout",
     "output_type": "stream",
     "text": [
      "       var1  var2\n",
      "group            \n",
      "a       1.5   2.5\n",
      "b       3.0   4.0\n"
     ]
    }
   ],
   "source": [
    "df = pd.DataFrame({'group': ['a', 'a', 'b'], 'var1': [1, 2, 3], 'var2': [2, 3, 4]})\n",
    "df2 = df.groupby(['group']).mean()\n",
    "print(df2)\n",
    "\n"
   ]
  },
  {
   "cell_type": "markdown",
   "id": "04e7b301-6f40-4846-83c2-b8a5bebcb3c2",
   "metadata": {},
   "source": [
    "## Group One Variable By Mean"
   ]
  },
  {
   "cell_type": "code",
   "execution_count": 13,
   "id": "b470c430-f462-4dff-810e-8a066f8a2961",
   "metadata": {
    "execution": {
     "iopub.execute_input": "2024-03-18T15:28:17.700660Z",
     "iopub.status.busy": "2024-03-18T15:28:17.700453Z",
     "iopub.status.idle": "2024-03-18T15:28:17.705518Z",
     "shell.execute_reply": "2024-03-18T15:28:17.705101Z",
     "shell.execute_reply.started": "2024-03-18T15:28:17.700640Z"
    },
    "tags": []
   },
   "outputs": [
    {
     "name": "stdout",
     "output_type": "stream",
     "text": [
      "group\n",
      "a    1.5\n",
      "b    3.0\n",
      "Name: var1, dtype: float64\n"
     ]
    }
   ],
   "source": [
    "df2 = df.groupby(['group'])['var1'].mean()\n",
    "print(df2)"
   ]
  },
  {
   "cell_type": "markdown",
   "id": "edb49656-8ee3-4403-82e3-ea4e5afcfd0f",
   "metadata": {},
   "source": [
    "## Group By Custom Function - One Value Per Row"
   ]
  },
  {
   "cell_type": "code",
   "execution_count": 16,
   "id": "93f510b9-61c2-4435-b76a-a2d5b1bb57f0",
   "metadata": {
    "execution": {
     "iopub.execute_input": "2024-03-18T15:30:13.982274Z",
     "iopub.status.busy": "2024-03-18T15:30:13.982053Z",
     "iopub.status.idle": "2024-03-18T15:30:13.991887Z",
     "shell.execute_reply": "2024-03-18T15:30:13.991486Z",
     "shell.execute_reply.started": "2024-03-18T15:30:13.982254Z"
    },
    "tags": []
   },
   "outputs": [
    {
     "name": "stdout",
     "output_type": "stream",
     "text": [
      "  group  var1  var2  var1_demeanedbygroup\n",
      "0     a     1     2                  -0.5\n",
      "1     a     2     3                   0.5\n",
      "2     b     3     4                   0.0\n"
     ]
    }
   ],
   "source": [
    "# where custom function defines same number of values as in original group\n",
    "def f(x):\n",
    "    x['var1_demeanedbygroup'] = x['var1'] - x['var1'].mean()\n",
    "\n",
    "    return(x)\n",
    "df2 = df.groupby(['group']).apply(f)\n",
    "print(df2)\n",
    "\n"
   ]
  },
  {
   "cell_type": "markdown",
   "id": "4a3f85aa-332d-4fb4-9114-57d695c2fbbf",
   "metadata": {
    "execution": {
     "iopub.execute_input": "2024-03-18T15:29:54.281657Z",
     "iopub.status.busy": "2024-03-18T15:29:54.281449Z",
     "iopub.status.idle": "2024-03-18T15:29:54.283700Z",
     "shell.execute_reply": "2024-03-18T15:29:54.283290Z",
     "shell.execute_reply.started": "2024-03-18T15:29:54.281636Z"
    },
    "tags": []
   },
   "source": [
    "## Group By Custom Function - One Value Per Group"
   ]
  },
  {
   "cell_type": "code",
   "execution_count": 15,
   "id": "584e5827-69a8-480a-b23e-a7007db53932",
   "metadata": {
    "execution": {
     "iopub.execute_input": "2024-03-18T15:30:08.304085Z",
     "iopub.status.busy": "2024-03-18T15:30:08.303866Z",
     "iopub.status.idle": "2024-03-18T15:30:08.310814Z",
     "shell.execute_reply": "2024-03-18T15:30:08.310395Z",
     "shell.execute_reply.started": "2024-03-18T15:30:08.304062Z"
    },
    "tags": []
   },
   "outputs": [
    {
     "name": "stdout",
     "output_type": "stream",
     "text": [
      "group\n",
      "a   -0.5\n",
      "b    0.0\n",
      "dtype: float64\n"
     ]
    }
   ],
   "source": [
    "# where custom function defines same number of values as in original group\n",
    "def f(x):\n",
    "    return( np.mean(list(x['var1'])) - np.max(list(x['var1'])) )\n",
    "df2 = df.groupby(['group']).apply(f)\n",
    "print(df2)"
   ]
  },
  {
   "cell_type": "markdown",
   "id": "59dd7455-bbd8-4810-bbe2-3651912cfecb",
   "metadata": {},
   "source": [
    "## Groupby Weighted Mean"
   ]
  },
  {
   "cell_type": "code",
   "execution_count": 17,
   "id": "d178d454-dd55-48a2-ad41-734b28ce6f5a",
   "metadata": {
    "execution": {
     "iopub.execute_input": "2024-03-18T15:52:37.158336Z",
     "iopub.status.busy": "2024-03-18T15:52:37.158111Z",
     "iopub.status.idle": "2024-03-18T15:52:37.165701Z",
     "shell.execute_reply": "2024-03-18T15:52:37.165251Z",
     "shell.execute_reply.started": "2024-03-18T15:52:37.158315Z"
    },
    "tags": []
   },
   "outputs": [],
   "source": [
    "# Template Functions\n",
    "def groupby_weighted_mean_singlecol(df,data_col,weight_col,by_col):\n",
    "    df['_data_times_weight'] = df[data_col]*df[weight_col]\n",
    "    df['_weight_where_notnull'] = df[weight_col]*pd.notnull(df[data_col])\n",
    "    g = df.groupby(by_col)\n",
    "    result = g['_data_times_weight'].sum() / g['_weight_where_notnull'].sum()\n",
    "    del df['_data_times_weight'], df['_weight_where_notnull']\n",
    "    return result\n",
    "\n",
    "\n",
    "def groupby_weighted_mean_manycol(df, data_col, weight_col, by_col):\n",
    "    \"\"\"\n",
    "    by_col can be one weight for all columns or different weights for each column\n",
    "    \"\"\"\n",
    "    g = df.groupby(by_col)\n",
    "\n",
    "    if isinstance(weight_col, str):\n",
    "        # if weight_col is not a list then set it to be a list of same length as data_col\n",
    "        weight_col = [weight_col] * len(data_col)\n",
    "\n",
    "    df2list = []\n",
    "\n",
    "    for i in range(len(data_col)):\n",
    "        df['_data_times_weight'] = df[data_col[i]]*df[weight_col[i]]\n",
    "        df['_weight_where_notnull'] = df[weight_col[i]]*pd.notnull(df[data_col[i]])\n",
    "        result = g['_data_times_weight'].sum() / g['_weight_where_notnull'].sum()\n",
    "        df2 = result.to_frame()\n",
    "        df2.columns = [data_col[i]]\n",
    "        df2list.append(df2)\n",
    "\n",
    "    del df['_data_times_weight'], df['_weight_where_notnull']\n",
    "\n",
    "    dfout = pd.concat(df2list, axis = 1)\n",
    "\n",
    "    return(dfout)"
   ]
  },
  {
   "cell_type": "code",
   "execution_count": 18,
   "id": "6481d969-1336-4ea8-8d31-cafaf58113d7",
   "metadata": {
    "execution": {
     "iopub.execute_input": "2024-03-18T15:52:54.292738Z",
     "iopub.status.busy": "2024-03-18T15:52:54.292517Z",
     "iopub.status.idle": "2024-03-18T15:52:54.340960Z",
     "shell.execute_reply": "2024-03-18T15:52:54.340530Z",
     "shell.execute_reply.started": "2024-03-18T15:52:54.292715Z"
    },
    "tags": []
   },
   "outputs": [
    {
     "name": "stdout",
     "output_type": "stream",
     "text": [
      "group\n",
      "a     NaN\n",
      "b    1.00\n",
      "c    2.75\n",
      "dtype: float64\n",
      "       val1  val2\n",
      "group            \n",
      "a       NaN   NaN\n",
      "b      1.00   1.0\n",
      "c      2.75   3.5\n",
      "       val1  val2\n",
      "group            \n",
      "a       NaN   NaN\n",
      "b      1.00   1.0\n",
      "c      2.75   3.0\n"
     ]
    }
   ],
   "source": [
    "# Application of Template Functions\n",
    "df = pd.DataFrame({'group': ['a', 'a', 'b', 'b', 'c', 'c'], 'weight1': [0.1, 0.2, 0.1, 0.2, 0.1, 0.3], 'weight2': [0.01, 0.02, 0.01, 0.02, 0.02, 0.02], 'val1': [np.nan, np.nan, np.nan, 1, 2, 3], 'val2': [np.nan, np.nan, np.nan, 1, 2, 4]})\n",
    "\n",
    "df2 = groupby_weighted_mean_singlecol(df, 'val1', 'weight1', 'group')\n",
    "print(df2)\n",
    "df2 = groupby_weighted_mean_manycol(df, ['val1', 'val2'], 'weight1', 'group')\n",
    "print(df2)\n",
    "df2 = groupby_weighted_mean_manycol(df, ['val1', 'val2'], ['weight1', 'weight2'], 'group')\n",
    "print(df2)"
   ]
  }
 ],
 "metadata": {
  "kernelspec": {
   "display_name": "anaconda3",
   "language": "python",
   "name": "anaconda3"
  },
  "language_info": {
   "codemirror_mode": {
    "name": "ipython",
    "version": 3
   },
   "file_extension": ".py",
   "mimetype": "text/x-python",
   "name": "python",
   "nbconvert_exporter": "python",
   "pygments_lexer": "ipython3",
   "version": "3.8.3"
  }
 },
 "nbformat": 4,
 "nbformat_minor": 5
}
